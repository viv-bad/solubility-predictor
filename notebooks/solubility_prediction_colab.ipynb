{
 "cells": [
  {
   "cell_type": "markdown",
   "metadata": {},
   "source": [
    "# Molecular Solubility Prediction with Graph Neural Networks\n",
    "\n",
    "This notebook sets up the environment for running the modular solubility prediction project in Google Colab."
   ]
  },
  {
   "cell_type": "markdown",
   "metadata": {},
   "source": [
    "## 1. Clone the Repository\n",
    "\n",
    "First, clone your repository. Replace the URL with your actual repository URL."
   ]
  },
  {
   "cell_type": "code",
   "execution_count": null,
   "metadata": {},
   "outputs": [],
   "source": [
    "# Clone the repository\n",
    "!git clone git@github.com:viv-bad/solubility-predictor.git\n",
    "\n",
    "# Navigate into the repository directory \n",
    "%cd solubility-predictor"
   ]
  },
  {
   "cell_type": "markdown",
   "metadata": {},
   "source": [
    "## 2. Set Up the Project for Colab\n",
    "\n",
    "Run the setup script to install dependencies and fix import issues."
   ]
  },
  {
   "cell_type": "code",
   "execution_count": null,
   "metadata": {},
   "outputs": [],
   "source": [
    "# Install dependencies from requirements.txt\n",
    "!pip install -r requirements.txt -q\n",
    "\n",
    "# Install the 'solpred' package itself (from pyproject.toml)\n",
    "!pip install -e . -q\n",
    "\n",
    "# Install PyG dependencies (scatter/sparse) - necessary for Colab\n",
    "import torch\n",
    "print(f\"PyTorch version: {torch.__version__}\")\n",
    "print(f\"CUDA available: {torch.cuda.is_available()}\")\n",
    "\n",
    "cuda_suffix = \"\"\n",
    "if torch.cuda.is_available():\n",
    "    try:\n",
    "        cuda_version = torch.version.cuda\n",
    "        if cuda_version:\n",
    "            cuda_suffix = f\"cu{cuda_version.replace('.', '')}\"\n",
    "        else:\n",
    "            print(\"CUDA version detection failed, defaulting to CPU.\")\n",
    "            cuda_suffix = \"cpu\"\n",
    "    except Exception as e:\n",
    "        print(f\"Error detecting CUDA version: {e}. Defaulting to CPU.\")\n",
    "        cuda_suffix = \"cpu\"\n",
    "else:\n",
    "    print(\"CUDA not available, using CPU.\")\n",
    "    cuda_suffix = \"cpu\"\n",
    "\n",
    "pyg_whl_url = f\"https://data.pyg.org/whl/torch-{torch.__version__}+{cuda_suffix}.html\"\n",
    "print(f\"\\nInstalling PyG dependencies (scatter/sparse) from {pyg_whl_url}...\")\n",
    "try:\n",
    "    # Use pip install with the find-links option\n",
    "    # !pip install torch-scatter torch-sparse -f \"{pyg_whl_url}\" --verbose\n",
    "    print(\"\\nPyG dependencies installed successfully.\")\n",
    "except Exception as e: # Catch broad exceptions as subprocess errors might not be specific\n",
    "     print(f\"\\nError installing PyG dependencies: {e}\")\n",
    "     print(\"Please check the URL and compatibility:\", pyg_whl_url)\n",
    "     print(\"Attempting install without specific version link (might be slower or fail)...\")\n",
    "     try:\n",
    "         !pip install torch-scatter torch-sparse -q\n",
    "         print(\"Installed torch-scatter and torch-sparse without specific wheel URL.\")\n",
    "     except Exception as e2:\n",
    "         print(f\"Failed to install torch-scatter/torch-sparse: {e2}. Training might fail.\")\n",
    "\n",
    "print(\"\\nDependency installation complete.\")"
   ]
  },
  {
   "cell_type": "code",
   "execution_count": null,
   "metadata": {},
   "outputs": [],
   "source": [
    "# If data not in colab, mount drive and get data from there. NOTE: remember to adjust --data path in train script to point to data in drive\n",
    "from google.colab import drive\n",
    "drive.mount('/content/drive')"
   ]
  },
  {
   "cell_type": "markdown",
   "metadata": {},
   "source": [
    "## 3. Test Molecule Visualization\n",
    "\n",
    "Let's test if the molecule visualization works correctly."
   ]
  },
  {
   "cell_type": "code",
   "execution_count": null,
   "metadata": {},
   "outputs": [],
   "source": [
    "import sys\n",
    "import os\n",
    "\n",
    "# Define the path to the src directory relative to the current working directory\n",
    "# (which should be your repo root after %cd)\n",
    "src_path = os.path.abspath('./src')\n",
    "\n",
    "# Check if the path is already in sys.path, and add it if not\n",
    "if src_path not in sys.path:\n",
    "    print(f\"Adding {src_path} to sys.path\")\n",
    "    sys.path.insert(0, src_path)\n",
    "else:\n",
    "    print(f\"{src_path} already in sys.path\")"
   ]
  },
  {
   "cell_type": "code",
   "execution_count": null,
   "metadata": {},
   "outputs": [],
   "source": [
    "# Test molecule visualization\n",
    "from solpred.data.test_graph import visualize_molecule_graph\n",
    "\n",
    "# Visualize aspirin\n",
    "visualize_molecule_graph('CC(=O)OC1=CC=CC=C1C(=O)O')"
   ]
  },
  {
   "cell_type": "markdown",
   "metadata": {},
   "source": [
    "## 4. Run the Training Script\n",
    "\n",
    "Now we can run the training script with our fixed import structure."
   ]
  },
  {
   "cell_type": "code",
   "execution_count": null,
   "metadata": {},
   "outputs": [],
   "source": [
    "# Create the default output directory if it doesn't exist\n",
    "!mkdir -p models\n",
    "\n",
    "# Run training (adjust parameters as needed)\n",
    "# Assumes your data is in './data/raw/solubility_data.csv' within the repo\n",
    "!python -m solpred.train \\\n",
    "    --data ./data \\\n",
    "    --output_dir ./models \\\n",
    "    --epochs 50 \\\n",
    "    --batch_size 64 \\\n",
    "    --lr 0.001 \\\n",
    "    --hidden_dim 128\n",
    "\n",
    "# --- OR ---\n",
    "# If using Google Drive (replace with your actual path):\n",
    "# !python -m solpred.train \\\n",
    "#     --data /content/drive/MyDrive/path/to/your/data_folder \\\n",
    "#     --output_dir ./models \\\n",
    "#     --epochs 50 \\\n",
    "#     --batch_size 64"
   ]
  }
 ],
 "metadata": {
  "kernelspec": {
   "display_name": "Python 3",
   "language": "python",
   "name": "python3"
  },
  "language_info": {
   "codemirror_mode": {
    "name": "ipython",
    "version": 3
   },
   "file_extension": ".py",
   "mimetype": "text/x-python",
   "name": "python",
   "nbconvert_exporter": "python",
   "pygments_lexer": "ipython3",
   "version": "3.8.10"
  }
 },
 "nbformat": 4,
 "nbformat_minor": 4
}

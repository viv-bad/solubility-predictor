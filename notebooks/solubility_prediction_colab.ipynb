{
 "cells": [
  {
   "cell_type": "markdown",
   "metadata": {},
   "source": [
    "# Molecular Solubility Prediction with Graph Neural Networks\n",
    "\n",
    "This notebook sets up the environment for running the modular solubility prediction project in Google Colab."
   ]
  },
  {
   "cell_type": "markdown",
   "metadata": {},
   "source": [
    "## 1. Clone the Repository\n",
    "\n",
    "First, clone your repository. Replace the URL with your actual repository URL."
   ]
  },
  {
   "cell_type": "code",
   "execution_count": null,
   "metadata": {},
   "outputs": [],
   "source": [
    "# Clone your repository\n",
    "!git clone YOUR_REPOSITORY_URL\n",
    "%cd YOUR_REPOSITORY_NAME"
   ]
  },
  {
   "cell_type": "markdown",
   "metadata": {},
   "source": [
    "## 2. Set Up the Project for Colab\n",
    "\n",
    "Run the setup script to install dependencies and fix import issues."
   ]
  },
  {
   "cell_type": "code",
   "execution_count": null,
   "metadata": {},
   "outputs": [],
   "source": [
    "# Create and run the setup script\n",
    "%%writefile setup_colab.py\n",
    "\"\"\"\n",
    "Setup script to fix imports and directory structure for running in Google Colab.\n",
    "Run this script after cloning your repository but before running train.py.\n",
    "\"\"\"\n",
    "\n",
    "import os\n",
    "import sys\n",
    "import shutil\n",
    "\n",
    "# Install required packages\n",
    "import subprocess\n",
    "subprocess.run([\"pip\", \"install\", \"torch-geometric\", \"-q\"])\n",
    "subprocess.run([\"pip\", \"install\", \"rdkit\", \"-q\"])\n",
    "\n",
    "# Get PyTorch version and determine correct CUDA version for PyG\n",
    "import torch\n",
    "print(f\"PyTorch version: {torch.__version__}\")\n",
    "print(f\"CUDA available: {torch.cuda.is_available()}\")\n",
    "\n",
    "cuda_suffix = \"\"\n",
    "if torch.cuda.is_available():\n",
    "    cuda_version = torch.version.cuda\n",
    "    cuda_suffix = f\"cu{cuda_version.replace('.', '')}\"\n",
    "    print(f\"CUDA version: {cuda_version}\")\n",
    "    print(f\"GPU device: {torch.cuda.get_device_name(0)}\")\n",
    "else:\n",
    "    cuda_suffix = \"cpu\"\n",
    "\n",
    "# Install PyG scatter and sparse dependencies\n",
    "pyg_whl_url = f\"https://data.pyg.org/whl/torch-{torch.__version__}+{cuda_suffix}.html\"\n",
    "subprocess.run([\"pip\", \"install\", \"torch-scatter\", \"torch-sparse\", \"-f\", pyg_whl_url])\n",
    "\n",
    "# Check if we're in the project root or need to go up one level\n",
    "if os.path.exists(\"src\"):\n",
    "    project_root = \".\"\n",
    "else:\n",
    "    project_root = \"..\"\n",
    "\n",
    "# Make sure required directories exist\n",
    "os.makedirs(\"data/raw\", exist_ok=True)\n",
    "os.makedirs(\"data/processed\", exist_ok=True)\n",
    "os.makedirs(\"models\", exist_ok=True)\n",
    "\n",
    "# Create/update __init__.py files to enable imports\n",
    "if not os.path.exists(\"src/__init__.py\"):\n",
    "    with open(\"src/__init__.py\", \"w\") as f:\n",
    "        f.write(\"# Enable imports from src\")\n",
    "        \n",
    "if not os.path.exists(\"src/data/__init__.py\"):\n",
    "    with open(\"src/data/__init__.py\", \"w\") as f:\n",
    "        f.write(\"# Enable imports from src.data\")\n",
    "        \n",
    "if not os.path.exists(\"src/models/__init__.py\"):\n",
    "    with open(\"src/models/__init__.py\", \"w\") as f:\n",
    "        f.write(\"# Enable imports from src.models\")\n",
    "\n",
    "# Create a fix_imports.py file in the root directory to modify Python's import system\n",
    "with open(\"fix_imports.py\", \"w\") as f:\n",
    "    f.write(\"\"\"\n",
    "import sys\n",
    "import os\n",
    "\n",
    "# Add the project root to Python path\n",
    "sys.path.insert(0, os.path.abspath('.'))\n",
    "\n",
    "# Add src directories to Python path\n",
    "sys.path.insert(0, os.path.abspath('./src'))\n",
    "sys.path.insert(0, os.path.abspath('./src/data'))\n",
    "sys.path.insert(0, os.path.abspath('./src/models'))\n",
    "    \"\"\")\n",
    "\n",
    "# Create a sample solubility dataset if needed\n",
    "if not os.path.exists(\"data/raw/solubility_dataset.csv\"):\n",
    "    print(\"Creating sample solubility dataset...\")\n",
    "    with open(\"data/raw/solubility_dataset.csv\", \"w\") as f:\n",
    "        f.write(\"\"\"id,name,smiles,solubility\n",
    "1,Glucose,C(C1C(C(C(C(O1)O)O)O)O)O,0.8\n",
    "2,Caffeine,CN1C=NC2=C1C(=O)N(C(=O)N2C)C,-2.2\n",
    "3,Aspirin,CC(=O)OC1=CC=CC=C1C(=O)O,-4.5\n",
    "4,Ibuprofen,CC(C)CC1=CC=C(C=C1)C(C)C(=O)O,-7.5\n",
    "5,Cholesterol,CC(C)CCCC(C)C1CCC2C1(CCC3C2CC=C4C3(CCC(C4)O)C)C,-12.5\n",
    "6,Paracetamol,CC(=O)NC1=CC=C(C=C1)O,-1.5\n",
    "7,Ampicillin,CC1(C(N2C(S1)C(C2=O)NC(=O)C(C3=CC=CC=C3)N)C(=O)O)C,-1.0\n",
    "8,Benzene,C1=CC=CC=C1,-2.0\n",
    "9,Toluene,CC1=CC=CC=C1,-2.7\n",
    "10,Naphthalene,C1=CC2=CC=CC=C2C=C1,-3.6\"\"\")\n",
    "\n",
    "# Update train.py to fix import issues\n",
    "try:\n",
    "    with open(\"src/train.py\", \"r\") as f:\n",
    "        train_content = f.read()\n",
    "\n",
    "    train_content_fixed = train_content.replace(\"from src.data.dataset import SolubilityDataset\", \n",
    "                                           \"from dataset import SolubilityDataset\")\n",
    "    train_content_fixed = train_content_fixed.replace(\"from src.models.gnn_model import SolubilityGNN\", \n",
    "                                                    \"from gnn_model import SolubilityGNN\")\n",
    "    train_content_fixed = train_content_fixed.replace(\"import matplotlib.pyplot as pl\", \n",
    "                                                    \"import matplotlib.pyplot as plt\")\n",
    "\n",
    "    with open(\"src/train.py\", \"w\") as f:\n",
    "        f.write(train_content_fixed)\n",
    "    print(\"Fixed imports in train.py\")\n",
    "except Exception as e:\n",
    "    print(f\"Could not update train.py: {e}\")\n",
    "\n",
    "# Update dataset.py to fix import issues\n",
    "try:\n",
    "    with open(\"src/data/dataset.py\", \"r\") as f:\n",
    "        dataset_content = f.read()\n",
    "\n",
    "    dataset_content_fixed = dataset_content.replace(\"from .molecule_graph import MoleculeGraph\", \n",
    "                                                  \"from molecule_graph import MoleculeGraph\")\n",
    "\n",
    "    with open(\"src/data/dataset.py\", \"w\") as f:\n",
    "        f.write(dataset_content_fixed)\n",
    "    print(\"Fixed imports in dataset.py\")\n",
    "except Exception as e:\n",
    "    print(f\"Could not update dataset.py: {e}\")\n",
    "\n",
    "# Create a wrapper script for train.py that includes the import fixes\n",
    "with open(\"run_train.py\", \"w\") as f:\n",
    "    f.write(\"\"\"\n",
    "# Import the fix_imports module to set up Python path\n",
    "import fix_imports\n",
    "\n",
    "# Now run the training script\n",
    "from src.train import train_model\n",
    "\n",
    "if __name__ == \"__main__\":\n",
    "    # Call the train_model function with appropriate parameters\n",
    "    data_path = \"data\"\n",
    "    train_model(data_path, epochs=50)\n",
    "    \"\"\")\n",
    "\n",
    "print(\"\\nSetup complete!\")\n",
    "print(\"\\nTo run the training script, use: !python run_train.py\")\n",
    "print(\"To test molecule visualization, use: !python -c \\\"import fix_imports; from test_graph import visualize_molecule_graph; visualize_molecule_graph('CC(=O)OC1=CC=CC=C1C(=O)O')\\\"\")"
   ]
  },
  {
   "cell_type": "code",
   "execution_count": null,
   "metadata": {},
   "outputs": [],
   "source": [
    "# Run the setup script\n",
    "!python setup_colab.py"
   ]
  },
  {
   "cell_type": "markdown",
   "metadata": {},
   "source": [
    "## 3. Test Molecule Visualization\n",
    "\n",
    "Let's test if the molecule visualization works correctly."
   ]
  },
  {
   "cell_type": "code",
   "execution_count": null,
   "metadata": {},
   "outputs": [],
   "source": [
    "# Test molecule visualization\n",
    "import sys\n",
    "sys.path.insert(0, 'src/data')\n",
    "import fix_imports\n",
    "from src.data.test_graph import visualize_molecule_graph\n",
    "\n",
    "# Visualize aspirin\n",
    "visualize_molecule_graph('CC(=O)OC1=CC=CC=C1C(=O)O')"
   ]
  },
  {
   "cell_type": "markdown",
   "metadata": {},
   "source": [
    "## 4. Run the Training Script\n",
    "\n",
    "Now we can run the training script with our fixed import structure."
   ]
  },
  {
   "cell_type": "code",
   "execution_count": null,
   "metadata": {},
   "outputs": [],
   "source": [
    "# Run the training script\n",
    "!python run_train.py"
   ]
  },
  {
   "cell_type": "markdown",
   "metadata": {},
   "source": [
    "## 5. Alternative: Run Directly from this Notebook\n",
    "\n",
    "You can also run the training directly from this notebook."
   ]
  },
  {
   "cell_type": "code",
   "execution_count": null,
   "metadata": {},
   "outputs": [],
   "source": [
    "# Import fix_imports to set up the Python path\n",
    "import fix_imports\n",
    "\n",
    "# Import the train_model function\n",
    "from src.train import train_model\n",
    "\n",
    "# Run training with GPU acceleration\n",
    "model = train_model(\"data\", epochs=20, batch_size=64, hidden_dim=128)"
   ]
  }
 ],
 "metadata": {
  "kernelspec": {
   "display_name": "Python 3",
   "language": "python",
   "name": "python3"
  },
  "language_info": {
   "codemirror_mode": {
    "name": "ipython",
    "version": 3
   },
   "file_extension": ".py",
   "mimetype": "text/x-python",
   "name": "python",
   "nbconvert_exporter": "python",
   "pygments_lexer": "ipython3",
   "version": "3.8.10"
  }
 },
 "nbformat": 4,
 "nbformat_minor": 4
}
